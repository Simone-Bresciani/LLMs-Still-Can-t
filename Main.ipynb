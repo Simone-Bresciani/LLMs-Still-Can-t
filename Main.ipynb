{
  "cells": [
    {
      "cell_type": "code",
      "execution_count": null,
      "metadata": {},
      "outputs": [],
      "source": [
        "#from shrink_dataset import extract_datasets\n",
        "#extract_datasets()"
      ]
    },
    {
      "cell_type": "code",
      "execution_count": 1,
      "metadata": {},
      "outputs": [],
      "source": [
        "import wandb\n",
        "from evaluate_task import Task\n",
        "GPT3_5 = \"gpt-3.5-turbo-0125\" #metti la preview\n",
        "GPT4 = \"gpt-4-0125-preview\"\n",
        "\n",
        "anachronism = Task('multiple_choice',\n",
        "                   'datasets/task_anachronisms.json',\n",
        "                   'Does the following sentence contain non-contemporaneous (anachronistic) elements?.')\n",
        "logical_sequence = Task('multiple_choice',\n",
        "                        'datasets/task_logical_sequence.json',\n",
        "                        \"Identify the correct chronological or sequential order of items in a list.\")\n",
        "color_HCL = Task('multiple_choice', 'datasets/task_color_HCL.json',\"\")\n",
        "color_RGB = Task('multiple_choice', 'datasets/task_color_RGB.json',\"\")\n",
        "color_HEX = Task('multiple_choice', 'datasets/task_color_HEX.json',\"\")\n",
        "color_HSL = Task('multiple_choice', 'datasets/task_color_HSL.json',\"\")\n",
        "matrixshapes = Task('free_response',\n",
        "                    'datasets/task_matrixshapes.json',\n",
        "                    \"Compute the final matrix shape after the given operations are performed.\")\n",
        "operators = Task('free_response',\n",
        "                    'datasets/task_operators.json',\n",
        "                    \"Given the definition of the op operator, compute the result.\")\n"
      ]
    },
    {
      "cell_type": "code",
      "execution_count": null,
      "metadata": {},
      "outputs": [],
      "source": [
        "#BASELINE\n",
        "\n",
        "MULTIPLE_CHOICE_SUFFIX = \"Just repeat the answer you choose.\"\n",
        "FREE_RESPONSE_SUFFIX = \"Please don't show me the steps, i just want to see the final result in one single line.\""
      ]
    },
    {
      "cell_type": "code",
      "execution_count": null,
      "metadata": {},
      "outputs": [],
      "source": [
        "#WITH EXPLANATION\n",
        "\n",
        "MULTIPLE_CHOICE_SUFFIX = \"In the first line you answer repeating the answer you choose, in the second line explain your answer in 20 words.\"\n",
        "FREE_RESPONSE_SUFFIX = \"In the first line you answer just the result, in the second line explain your answer in 20 words.\"\n"
      ]
    },
    {
      "cell_type": "code",
      "execution_count": 2,
      "metadata": {},
      "outputs": [
        {
          "name": "stderr",
          "output_type": "stream",
          "text": [
            "Failed to detect the name of this notebook, you can set it manually with the WANDB_NOTEBOOK_NAME environment variable to enable code saving.\n",
            "\u001b[34m\u001b[1mwandb\u001b[0m: Currently logged in as: \u001b[33ms-bresciani026\u001b[0m (\u001b[33msimone-bresciani\u001b[0m). Use \u001b[1m`wandb login --relogin`\u001b[0m to force relogin\n"
          ]
        },
        {
          "data": {
            "text/html": [
              "Tracking run with wandb version 0.16.2"
            ],
            "text/plain": [
              "<IPython.core.display.HTML object>"
            ]
          },
          "metadata": {},
          "output_type": "display_data"
        },
        {
          "data": {
            "text/html": [
              "Run data is saved locally in <code>c:\\Users\\simon\\VSCode-workspace\\LLMs-Still-Can-t\\wandb\\run-20240204_180704-p02xqmk6</code>"
            ],
            "text/plain": [
              "<IPython.core.display.HTML object>"
            ]
          },
          "metadata": {},
          "output_type": "display_data"
        },
        {
          "data": {
            "text/html": [
              "Syncing run <strong><a href='https://wandb.ai/simone-bresciani/LLMs-Still-Can-t/runs/p02xqmk6' target=\"_blank\">dark-violet-55</a></strong> to <a href='https://wandb.ai/simone-bresciani/LLMs-Still-Can-t' target=\"_blank\">Weights & Biases</a> (<a href='https://wandb.me/run' target=\"_blank\">docs</a>)<br/>"
            ],
            "text/plain": [
              "<IPython.core.display.HTML object>"
            ]
          },
          "metadata": {},
          "output_type": "display_data"
        },
        {
          "data": {
            "text/html": [
              " View project at <a href='https://wandb.ai/simone-bresciani/LLMs-Still-Can-t' target=\"_blank\">https://wandb.ai/simone-bresciani/LLMs-Still-Can-t</a>"
            ],
            "text/plain": [
              "<IPython.core.display.HTML object>"
            ]
          },
          "metadata": {},
          "output_type": "display_data"
        },
        {
          "data": {
            "text/html": [
              " View run at <a href='https://wandb.ai/simone-bresciani/LLMs-Still-Can-t/runs/p02xqmk6' target=\"_blank\">https://wandb.ai/simone-bresciani/LLMs-Still-Can-t/runs/p02xqmk6</a>"
            ],
            "text/plain": [
              "<IPython.core.display.HTML object>"
            ]
          },
          "metadata": {},
          "output_type": "display_data"
        },
        {
          "data": {
            "text/html": [
              "<style>\n",
              "    table.wandb td:nth-child(1) { padding: 0 10px; text-align: left ; width: auto;} td:nth-child(2) {text-align: left ; width: 100%}\n",
              "    .wandb-row { display: flex; flex-direction: row; flex-wrap: wrap; justify-content: flex-start; width: 100% }\n",
              "    .wandb-col { display: flex; flex-direction: column; flex-basis: 100%; flex: 1; padding: 10px; }\n",
              "    </style>\n",
              "<div class=\"wandb-row\"><div class=\"wandb-col\"><h3>Run history:</h3><br/><table class=\"wandb\"><tr><td>accuracy</td><td>▁</td></tr></table><br/></div><div class=\"wandb-col\"><h3>Run summary:</h3><br/><table class=\"wandb\"><tr><td>accuracy</td><td>0.82</td></tr><tr><td>model</td><td>gpt-4-0125-preview</td></tr><tr><td>name</td><td>ChainOfThoughts [dat...</td></tr><tr><td>shots</td><td>0</td></tr><tr><td>system_prompt</td><td>Does the following s...</td></tr></table><br/></div></div>"
            ],
            "text/plain": [
              "<IPython.core.display.HTML object>"
            ]
          },
          "metadata": {},
          "output_type": "display_data"
        },
        {
          "data": {
            "text/html": [
              " View run <strong style=\"color:#cdcd00\">dark-violet-55</strong> at: <a href='https://wandb.ai/simone-bresciani/LLMs-Still-Can-t/runs/p02xqmk6' target=\"_blank\">https://wandb.ai/simone-bresciani/LLMs-Still-Can-t/runs/p02xqmk6</a><br/>Synced 4 W&B file(s), 1 media file(s), 1 artifact file(s) and 0 other file(s)"
            ],
            "text/plain": [
              "<IPython.core.display.HTML object>"
            ]
          },
          "metadata": {},
          "output_type": "display_data"
        },
        {
          "data": {
            "text/html": [
              "Find logs at: <code>.\\wandb\\run-20240204_180704-p02xqmk6\\logs</code>"
            ],
            "text/plain": [
              "<IPython.core.display.HTML object>"
            ]
          },
          "metadata": {},
          "output_type": "display_data"
        },
        {
          "data": {
            "text/html": [
              "Tracking run with wandb version 0.16.2"
            ],
            "text/plain": [
              "<IPython.core.display.HTML object>"
            ]
          },
          "metadata": {},
          "output_type": "display_data"
        },
        {
          "data": {
            "text/html": [
              "Run data is saved locally in <code>c:\\Users\\simon\\VSCode-workspace\\LLMs-Still-Can-t\\wandb\\run-20240204_182031-ttfrlog7</code>"
            ],
            "text/plain": [
              "<IPython.core.display.HTML object>"
            ]
          },
          "metadata": {},
          "output_type": "display_data"
        },
        {
          "data": {
            "text/html": [
              "Syncing run <strong><a href='https://wandb.ai/simone-bresciani/LLMs-Still-Can-t/runs/ttfrlog7' target=\"_blank\">sage-dream-56</a></strong> to <a href='https://wandb.ai/simone-bresciani/LLMs-Still-Can-t' target=\"_blank\">Weights & Biases</a> (<a href='https://wandb.me/run' target=\"_blank\">docs</a>)<br/>"
            ],
            "text/plain": [
              "<IPython.core.display.HTML object>"
            ]
          },
          "metadata": {},
          "output_type": "display_data"
        },
        {
          "data": {
            "text/html": [
              " View project at <a href='https://wandb.ai/simone-bresciani/LLMs-Still-Can-t' target=\"_blank\">https://wandb.ai/simone-bresciani/LLMs-Still-Can-t</a>"
            ],
            "text/plain": [
              "<IPython.core.display.HTML object>"
            ]
          },
          "metadata": {},
          "output_type": "display_data"
        },
        {
          "data": {
            "text/html": [
              " View run at <a href='https://wandb.ai/simone-bresciani/LLMs-Still-Can-t/runs/ttfrlog7' target=\"_blank\">https://wandb.ai/simone-bresciani/LLMs-Still-Can-t/runs/ttfrlog7</a>"
            ],
            "text/plain": [
              "<IPython.core.display.HTML object>"
            ]
          },
          "metadata": {},
          "output_type": "display_data"
        },
        {
          "data": {
            "text/html": [
              "<style>\n",
              "    table.wandb td:nth-child(1) { padding: 0 10px; text-align: left ; width: auto;} td:nth-child(2) {text-align: left ; width: 100%}\n",
              "    .wandb-row { display: flex; flex-direction: row; flex-wrap: wrap; justify-content: flex-start; width: 100% }\n",
              "    .wandb-col { display: flex; flex-direction: column; flex-basis: 100%; flex: 1; padding: 10px; }\n",
              "    </style>\n",
              "<div class=\"wandb-row\"><div class=\"wandb-col\"><h3>Run history:</h3><br/><table class=\"wandb\"><tr><td>accuracy</td><td>▁</td></tr></table><br/></div><div class=\"wandb-col\"><h3>Run summary:</h3><br/><table class=\"wandb\"><tr><td>accuracy</td><td>0.88</td></tr><tr><td>model</td><td>gpt-4-0125-preview</td></tr><tr><td>name</td><td>ChainOfThoughts [dat...</td></tr><tr><td>shots</td><td>0</td></tr><tr><td>system_prompt</td><td>Identify the correct...</td></tr></table><br/></div></div>"
            ],
            "text/plain": [
              "<IPython.core.display.HTML object>"
            ]
          },
          "metadata": {},
          "output_type": "display_data"
        },
        {
          "data": {
            "text/html": [
              " View run <strong style=\"color:#cdcd00\">sage-dream-56</strong> at: <a href='https://wandb.ai/simone-bresciani/LLMs-Still-Can-t/runs/ttfrlog7' target=\"_blank\">https://wandb.ai/simone-bresciani/LLMs-Still-Can-t/runs/ttfrlog7</a><br/>Synced 4 W&B file(s), 1 media file(s), 1 artifact file(s) and 0 other file(s)"
            ],
            "text/plain": [
              "<IPython.core.display.HTML object>"
            ]
          },
          "metadata": {},
          "output_type": "display_data"
        },
        {
          "data": {
            "text/html": [
              "Find logs at: <code>.\\wandb\\run-20240204_182031-ttfrlog7\\logs</code>"
            ],
            "text/plain": [
              "<IPython.core.display.HTML object>"
            ]
          },
          "metadata": {},
          "output_type": "display_data"
        },
        {
          "data": {
            "text/html": [
              "Tracking run with wandb version 0.16.2"
            ],
            "text/plain": [
              "<IPython.core.display.HTML object>"
            ]
          },
          "metadata": {},
          "output_type": "display_data"
        },
        {
          "data": {
            "text/html": [
              "Run data is saved locally in <code>c:\\Users\\simon\\VSCode-workspace\\LLMs-Still-Can-t\\wandb\\run-20240204_182855-ommjr9yx</code>"
            ],
            "text/plain": [
              "<IPython.core.display.HTML object>"
            ]
          },
          "metadata": {},
          "output_type": "display_data"
        },
        {
          "data": {
            "text/html": [
              "Syncing run <strong><a href='https://wandb.ai/simone-bresciani/LLMs-Still-Can-t/runs/ommjr9yx' target=\"_blank\">grateful-bush-57</a></strong> to <a href='https://wandb.ai/simone-bresciani/LLMs-Still-Can-t' target=\"_blank\">Weights & Biases</a> (<a href='https://wandb.me/run' target=\"_blank\">docs</a>)<br/>"
            ],
            "text/plain": [
              "<IPython.core.display.HTML object>"
            ]
          },
          "metadata": {},
          "output_type": "display_data"
        },
        {
          "data": {
            "text/html": [
              " View project at <a href='https://wandb.ai/simone-bresciani/LLMs-Still-Can-t' target=\"_blank\">https://wandb.ai/simone-bresciani/LLMs-Still-Can-t</a>"
            ],
            "text/plain": [
              "<IPython.core.display.HTML object>"
            ]
          },
          "metadata": {},
          "output_type": "display_data"
        },
        {
          "data": {
            "text/html": [
              " View run at <a href='https://wandb.ai/simone-bresciani/LLMs-Still-Can-t/runs/ommjr9yx' target=\"_blank\">https://wandb.ai/simone-bresciani/LLMs-Still-Can-t/runs/ommjr9yx</a>"
            ],
            "text/plain": [
              "<IPython.core.display.HTML object>"
            ]
          },
          "metadata": {},
          "output_type": "display_data"
        },
        {
          "data": {
            "text/html": [
              "<style>\n",
              "    table.wandb td:nth-child(1) { padding: 0 10px; text-align: left ; width: auto;} td:nth-child(2) {text-align: left ; width: 100%}\n",
              "    .wandb-row { display: flex; flex-direction: row; flex-wrap: wrap; justify-content: flex-start; width: 100% }\n",
              "    .wandb-col { display: flex; flex-direction: column; flex-basis: 100%; flex: 1; padding: 10px; }\n",
              "    </style>\n",
              "<div class=\"wandb-row\"><div class=\"wandb-col\"><h3>Run history:</h3><br/><table class=\"wandb\"><tr><td>accuracy</td><td>▁</td></tr></table><br/></div><div class=\"wandb-col\"><h3>Run summary:</h3><br/><table class=\"wandb\"><tr><td>accuracy</td><td>0.53</td></tr><tr><td>model</td><td>gpt-4-0125-preview</td></tr><tr><td>name</td><td>ChainOfThoughts [dat...</td></tr><tr><td>shots</td><td>0</td></tr><tr><td>system_prompt</td><td>Split the problem in...</td></tr></table><br/></div></div>"
            ],
            "text/plain": [
              "<IPython.core.display.HTML object>"
            ]
          },
          "metadata": {},
          "output_type": "display_data"
        },
        {
          "data": {
            "text/html": [
              " View run <strong style=\"color:#cdcd00\">grateful-bush-57</strong> at: <a href='https://wandb.ai/simone-bresciani/LLMs-Still-Can-t/runs/ommjr9yx' target=\"_blank\">https://wandb.ai/simone-bresciani/LLMs-Still-Can-t/runs/ommjr9yx</a><br/>Synced 4 W&B file(s), 1 media file(s), 1 artifact file(s) and 0 other file(s)"
            ],
            "text/plain": [
              "<IPython.core.display.HTML object>"
            ]
          },
          "metadata": {},
          "output_type": "display_data"
        },
        {
          "data": {
            "text/html": [
              "Find logs at: <code>.\\wandb\\run-20240204_182855-ommjr9yx\\logs</code>"
            ],
            "text/plain": [
              "<IPython.core.display.HTML object>"
            ]
          },
          "metadata": {},
          "output_type": "display_data"
        },
        {
          "data": {
            "text/html": [
              "Tracking run with wandb version 0.16.2"
            ],
            "text/plain": [
              "<IPython.core.display.HTML object>"
            ]
          },
          "metadata": {},
          "output_type": "display_data"
        },
        {
          "data": {
            "text/html": [
              "Run data is saved locally in <code>c:\\Users\\simon\\VSCode-workspace\\LLMs-Still-Can-t\\wandb\\run-20240204_183359-8tbe9z9s</code>"
            ],
            "text/plain": [
              "<IPython.core.display.HTML object>"
            ]
          },
          "metadata": {},
          "output_type": "display_data"
        },
        {
          "data": {
            "text/html": [
              "Syncing run <strong><a href='https://wandb.ai/simone-bresciani/LLMs-Still-Can-t/runs/8tbe9z9s' target=\"_blank\">lively-glade-58</a></strong> to <a href='https://wandb.ai/simone-bresciani/LLMs-Still-Can-t' target=\"_blank\">Weights & Biases</a> (<a href='https://wandb.me/run' target=\"_blank\">docs</a>)<br/>"
            ],
            "text/plain": [
              "<IPython.core.display.HTML object>"
            ]
          },
          "metadata": {},
          "output_type": "display_data"
        },
        {
          "data": {
            "text/html": [
              " View project at <a href='https://wandb.ai/simone-bresciani/LLMs-Still-Can-t' target=\"_blank\">https://wandb.ai/simone-bresciani/LLMs-Still-Can-t</a>"
            ],
            "text/plain": [
              "<IPython.core.display.HTML object>"
            ]
          },
          "metadata": {},
          "output_type": "display_data"
        },
        {
          "data": {
            "text/html": [
              " View run at <a href='https://wandb.ai/simone-bresciani/LLMs-Still-Can-t/runs/8tbe9z9s' target=\"_blank\">https://wandb.ai/simone-bresciani/LLMs-Still-Can-t/runs/8tbe9z9s</a>"
            ],
            "text/plain": [
              "<IPython.core.display.HTML object>"
            ]
          },
          "metadata": {},
          "output_type": "display_data"
        },
        {
          "data": {
            "text/html": [
              "<style>\n",
              "    table.wandb td:nth-child(1) { padding: 0 10px; text-align: left ; width: auto;} td:nth-child(2) {text-align: left ; width: 100%}\n",
              "    .wandb-row { display: flex; flex-direction: row; flex-wrap: wrap; justify-content: flex-start; width: 100% }\n",
              "    .wandb-col { display: flex; flex-direction: column; flex-basis: 100%; flex: 1; padding: 10px; }\n",
              "    </style>\n",
              "<div class=\"wandb-row\"><div class=\"wandb-col\"><h3>Run history:</h3><br/><table class=\"wandb\"><tr><td>accuracy</td><td>▁</td></tr></table><br/></div><div class=\"wandb-col\"><h3>Run summary:</h3><br/><table class=\"wandb\"><tr><td>accuracy</td><td>0.6</td></tr><tr><td>model</td><td>gpt-4-0125-preview</td></tr><tr><td>name</td><td>ChainOfThoughts [dat...</td></tr><tr><td>shots</td><td>0</td></tr><tr><td>system_prompt</td><td>Split the problem in...</td></tr></table><br/></div></div>"
            ],
            "text/plain": [
              "<IPython.core.display.HTML object>"
            ]
          },
          "metadata": {},
          "output_type": "display_data"
        },
        {
          "data": {
            "text/html": [
              " View run <strong style=\"color:#cdcd00\">lively-glade-58</strong> at: <a href='https://wandb.ai/simone-bresciani/LLMs-Still-Can-t/runs/8tbe9z9s' target=\"_blank\">https://wandb.ai/simone-bresciani/LLMs-Still-Can-t/runs/8tbe9z9s</a><br/>Synced 4 W&B file(s), 1 media file(s), 1 artifact file(s) and 0 other file(s)"
            ],
            "text/plain": [
              "<IPython.core.display.HTML object>"
            ]
          },
          "metadata": {},
          "output_type": "display_data"
        },
        {
          "data": {
            "text/html": [
              "Find logs at: <code>.\\wandb\\run-20240204_183359-8tbe9z9s\\logs</code>"
            ],
            "text/plain": [
              "<IPython.core.display.HTML object>"
            ]
          },
          "metadata": {},
          "output_type": "display_data"
        },
        {
          "data": {
            "text/html": [
              "Tracking run with wandb version 0.16.2"
            ],
            "text/plain": [
              "<IPython.core.display.HTML object>"
            ]
          },
          "metadata": {},
          "output_type": "display_data"
        },
        {
          "data": {
            "text/html": [
              "Run data is saved locally in <code>c:\\Users\\simon\\VSCode-workspace\\LLMs-Still-Can-t\\wandb\\run-20240204_183702-g5xpky7m</code>"
            ],
            "text/plain": [
              "<IPython.core.display.HTML object>"
            ]
          },
          "metadata": {},
          "output_type": "display_data"
        },
        {
          "data": {
            "text/html": [
              "Syncing run <strong><a href='https://wandb.ai/simone-bresciani/LLMs-Still-Can-t/runs/g5xpky7m' target=\"_blank\">worldly-donkey-59</a></strong> to <a href='https://wandb.ai/simone-bresciani/LLMs-Still-Can-t' target=\"_blank\">Weights & Biases</a> (<a href='https://wandb.me/run' target=\"_blank\">docs</a>)<br/>"
            ],
            "text/plain": [
              "<IPython.core.display.HTML object>"
            ]
          },
          "metadata": {},
          "output_type": "display_data"
        },
        {
          "data": {
            "text/html": [
              " View project at <a href='https://wandb.ai/simone-bresciani/LLMs-Still-Can-t' target=\"_blank\">https://wandb.ai/simone-bresciani/LLMs-Still-Can-t</a>"
            ],
            "text/plain": [
              "<IPython.core.display.HTML object>"
            ]
          },
          "metadata": {},
          "output_type": "display_data"
        },
        {
          "data": {
            "text/html": [
              " View run at <a href='https://wandb.ai/simone-bresciani/LLMs-Still-Can-t/runs/g5xpky7m' target=\"_blank\">https://wandb.ai/simone-bresciani/LLMs-Still-Can-t/runs/g5xpky7m</a>"
            ],
            "text/plain": [
              "<IPython.core.display.HTML object>"
            ]
          },
          "metadata": {},
          "output_type": "display_data"
        },
        {
          "data": {
            "text/html": [
              "<style>\n",
              "    table.wandb td:nth-child(1) { padding: 0 10px; text-align: left ; width: auto;} td:nth-child(2) {text-align: left ; width: 100%}\n",
              "    .wandb-row { display: flex; flex-direction: row; flex-wrap: wrap; justify-content: flex-start; width: 100% }\n",
              "    .wandb-col { display: flex; flex-direction: column; flex-basis: 100%; flex: 1; padding: 10px; }\n",
              "    </style>\n",
              "<div class=\"wandb-row\"><div class=\"wandb-col\"><h3>Run history:</h3><br/><table class=\"wandb\"><tr><td>accuracy</td><td>▁</td></tr></table><br/></div><div class=\"wandb-col\"><h3>Run summary:</h3><br/><table class=\"wandb\"><tr><td>accuracy</td><td>0.8</td></tr><tr><td>model</td><td>gpt-4-0125-preview</td></tr><tr><td>name</td><td>ChainOfThoughts [dat...</td></tr><tr><td>shots</td><td>0</td></tr><tr><td>system_prompt</td><td>Split the problem in...</td></tr></table><br/></div></div>"
            ],
            "text/plain": [
              "<IPython.core.display.HTML object>"
            ]
          },
          "metadata": {},
          "output_type": "display_data"
        },
        {
          "data": {
            "text/html": [
              " View run <strong style=\"color:#cdcd00\">worldly-donkey-59</strong> at: <a href='https://wandb.ai/simone-bresciani/LLMs-Still-Can-t/runs/g5xpky7m' target=\"_blank\">https://wandb.ai/simone-bresciani/LLMs-Still-Can-t/runs/g5xpky7m</a><br/>Synced 4 W&B file(s), 1 media file(s), 1 artifact file(s) and 0 other file(s)"
            ],
            "text/plain": [
              "<IPython.core.display.HTML object>"
            ]
          },
          "metadata": {},
          "output_type": "display_data"
        },
        {
          "data": {
            "text/html": [
              "Find logs at: <code>.\\wandb\\run-20240204_183702-g5xpky7m\\logs</code>"
            ],
            "text/plain": [
              "<IPython.core.display.HTML object>"
            ]
          },
          "metadata": {},
          "output_type": "display_data"
        },
        {
          "data": {
            "text/html": [
              "Tracking run with wandb version 0.16.2"
            ],
            "text/plain": [
              "<IPython.core.display.HTML object>"
            ]
          },
          "metadata": {},
          "output_type": "display_data"
        },
        {
          "data": {
            "text/html": [
              "Run data is saved locally in <code>c:\\Users\\simon\\VSCode-workspace\\LLMs-Still-Can-t\\wandb\\run-20240204_183937-bqrqc56k</code>"
            ],
            "text/plain": [
              "<IPython.core.display.HTML object>"
            ]
          },
          "metadata": {},
          "output_type": "display_data"
        },
        {
          "data": {
            "text/html": [
              "Syncing run <strong><a href='https://wandb.ai/simone-bresciani/LLMs-Still-Can-t/runs/bqrqc56k' target=\"_blank\">trim-sound-60</a></strong> to <a href='https://wandb.ai/simone-bresciani/LLMs-Still-Can-t' target=\"_blank\">Weights & Biases</a> (<a href='https://wandb.me/run' target=\"_blank\">docs</a>)<br/>"
            ],
            "text/plain": [
              "<IPython.core.display.HTML object>"
            ]
          },
          "metadata": {},
          "output_type": "display_data"
        },
        {
          "data": {
            "text/html": [
              " View project at <a href='https://wandb.ai/simone-bresciani/LLMs-Still-Can-t' target=\"_blank\">https://wandb.ai/simone-bresciani/LLMs-Still-Can-t</a>"
            ],
            "text/plain": [
              "<IPython.core.display.HTML object>"
            ]
          },
          "metadata": {},
          "output_type": "display_data"
        },
        {
          "data": {
            "text/html": [
              " View run at <a href='https://wandb.ai/simone-bresciani/LLMs-Still-Can-t/runs/bqrqc56k' target=\"_blank\">https://wandb.ai/simone-bresciani/LLMs-Still-Can-t/runs/bqrqc56k</a>"
            ],
            "text/plain": [
              "<IPython.core.display.HTML object>"
            ]
          },
          "metadata": {},
          "output_type": "display_data"
        },
        {
          "data": {
            "text/html": [
              "<style>\n",
              "    table.wandb td:nth-child(1) { padding: 0 10px; text-align: left ; width: auto;} td:nth-child(2) {text-align: left ; width: 100%}\n",
              "    .wandb-row { display: flex; flex-direction: row; flex-wrap: wrap; justify-content: flex-start; width: 100% }\n",
              "    .wandb-col { display: flex; flex-direction: column; flex-basis: 100%; flex: 1; padding: 10px; }\n",
              "    </style>\n",
              "<div class=\"wandb-row\"><div class=\"wandb-col\"><h3>Run history:</h3><br/><table class=\"wandb\"><tr><td>accuracy</td><td>▁</td></tr></table><br/></div><div class=\"wandb-col\"><h3>Run summary:</h3><br/><table class=\"wandb\"><tr><td>accuracy</td><td>0.67</td></tr><tr><td>model</td><td>gpt-4-0125-preview</td></tr><tr><td>name</td><td>ChainOfThoughts [dat...</td></tr><tr><td>shots</td><td>0</td></tr><tr><td>system_prompt</td><td>Split the problem in...</td></tr></table><br/></div></div>"
            ],
            "text/plain": [
              "<IPython.core.display.HTML object>"
            ]
          },
          "metadata": {},
          "output_type": "display_data"
        },
        {
          "data": {
            "text/html": [
              " View run <strong style=\"color:#cdcd00\">trim-sound-60</strong> at: <a href='https://wandb.ai/simone-bresciani/LLMs-Still-Can-t/runs/bqrqc56k' target=\"_blank\">https://wandb.ai/simone-bresciani/LLMs-Still-Can-t/runs/bqrqc56k</a><br/>Synced 4 W&B file(s), 1 media file(s), 1 artifact file(s) and 0 other file(s)"
            ],
            "text/plain": [
              "<IPython.core.display.HTML object>"
            ]
          },
          "metadata": {},
          "output_type": "display_data"
        },
        {
          "data": {
            "text/html": [
              "Find logs at: <code>.\\wandb\\run-20240204_183937-bqrqc56k\\logs</code>"
            ],
            "text/plain": [
              "<IPython.core.display.HTML object>"
            ]
          },
          "metadata": {},
          "output_type": "display_data"
        },
        {
          "data": {
            "text/html": [
              "Tracking run with wandb version 0.16.2"
            ],
            "text/plain": [
              "<IPython.core.display.HTML object>"
            ]
          },
          "metadata": {},
          "output_type": "display_data"
        },
        {
          "data": {
            "text/html": [
              "Run data is saved locally in <code>c:\\Users\\simon\\VSCode-workspace\\LLMs-Still-Can-t\\wandb\\run-20240204_184444-5krxsre5</code>"
            ],
            "text/plain": [
              "<IPython.core.display.HTML object>"
            ]
          },
          "metadata": {},
          "output_type": "display_data"
        },
        {
          "data": {
            "text/html": [
              "Syncing run <strong><a href='https://wandb.ai/simone-bresciani/LLMs-Still-Can-t/runs/5krxsre5' target=\"_blank\">curious-totem-61</a></strong> to <a href='https://wandb.ai/simone-bresciani/LLMs-Still-Can-t' target=\"_blank\">Weights & Biases</a> (<a href='https://wandb.me/run' target=\"_blank\">docs</a>)<br/>"
            ],
            "text/plain": [
              "<IPython.core.display.HTML object>"
            ]
          },
          "metadata": {},
          "output_type": "display_data"
        },
        {
          "data": {
            "text/html": [
              " View project at <a href='https://wandb.ai/simone-bresciani/LLMs-Still-Can-t' target=\"_blank\">https://wandb.ai/simone-bresciani/LLMs-Still-Can-t</a>"
            ],
            "text/plain": [
              "<IPython.core.display.HTML object>"
            ]
          },
          "metadata": {},
          "output_type": "display_data"
        },
        {
          "data": {
            "text/html": [
              " View run at <a href='https://wandb.ai/simone-bresciani/LLMs-Still-Can-t/runs/5krxsre5' target=\"_blank\">https://wandb.ai/simone-bresciani/LLMs-Still-Can-t/runs/5krxsre5</a>"
            ],
            "text/plain": [
              "<IPython.core.display.HTML object>"
            ]
          },
          "metadata": {},
          "output_type": "display_data"
        },
        {
          "data": {
            "text/html": [
              "<style>\n",
              "    table.wandb td:nth-child(1) { padding: 0 10px; text-align: left ; width: auto;} td:nth-child(2) {text-align: left ; width: 100%}\n",
              "    .wandb-row { display: flex; flex-direction: row; flex-wrap: wrap; justify-content: flex-start; width: 100% }\n",
              "    .wandb-col { display: flex; flex-direction: column; flex-basis: 100%; flex: 1; padding: 10px; }\n",
              "    </style>\n",
              "<div class=\"wandb-row\"><div class=\"wandb-col\"><h3>Run history:</h3><br/><table class=\"wandb\"><tr><td>accuracy</td><td>▁</td></tr></table><br/></div><div class=\"wandb-col\"><h3>Run summary:</h3><br/><table class=\"wandb\"><tr><td>accuracy</td><td>0.78</td></tr><tr><td>model</td><td>gpt-4-0125-preview</td></tr><tr><td>name</td><td>ChainOfThoughts [dat...</td></tr><tr><td>shots</td><td>0</td></tr><tr><td>system_prompt</td><td>Compute the final ma...</td></tr></table><br/></div></div>"
            ],
            "text/plain": [
              "<IPython.core.display.HTML object>"
            ]
          },
          "metadata": {},
          "output_type": "display_data"
        },
        {
          "data": {
            "text/html": [
              " View run <strong style=\"color:#cdcd00\">curious-totem-61</strong> at: <a href='https://wandb.ai/simone-bresciani/LLMs-Still-Can-t/runs/5krxsre5' target=\"_blank\">https://wandb.ai/simone-bresciani/LLMs-Still-Can-t/runs/5krxsre5</a><br/>Synced 4 W&B file(s), 1 media file(s), 1 artifact file(s) and 0 other file(s)"
            ],
            "text/plain": [
              "<IPython.core.display.HTML object>"
            ]
          },
          "metadata": {},
          "output_type": "display_data"
        },
        {
          "data": {
            "text/html": [
              "Find logs at: <code>.\\wandb\\run-20240204_184444-5krxsre5\\logs</code>"
            ],
            "text/plain": [
              "<IPython.core.display.HTML object>"
            ]
          },
          "metadata": {},
          "output_type": "display_data"
        },
        {
          "data": {
            "text/html": [
              "Tracking run with wandb version 0.16.2"
            ],
            "text/plain": [
              "<IPython.core.display.HTML object>"
            ]
          },
          "metadata": {},
          "output_type": "display_data"
        },
        {
          "data": {
            "text/html": [
              "Run data is saved locally in <code>c:\\Users\\simon\\VSCode-workspace\\LLMs-Still-Can-t\\wandb\\run-20240204_190740-ybpmw80n</code>"
            ],
            "text/plain": [
              "<IPython.core.display.HTML object>"
            ]
          },
          "metadata": {},
          "output_type": "display_data"
        },
        {
          "data": {
            "text/html": [
              "Syncing run <strong><a href='https://wandb.ai/simone-bresciani/LLMs-Still-Can-t/runs/ybpmw80n' target=\"_blank\">smooth-butterfly-62</a></strong> to <a href='https://wandb.ai/simone-bresciani/LLMs-Still-Can-t' target=\"_blank\">Weights & Biases</a> (<a href='https://wandb.me/run' target=\"_blank\">docs</a>)<br/>"
            ],
            "text/plain": [
              "<IPython.core.display.HTML object>"
            ]
          },
          "metadata": {},
          "output_type": "display_data"
        },
        {
          "data": {
            "text/html": [
              " View project at <a href='https://wandb.ai/simone-bresciani/LLMs-Still-Can-t' target=\"_blank\">https://wandb.ai/simone-bresciani/LLMs-Still-Can-t</a>"
            ],
            "text/plain": [
              "<IPython.core.display.HTML object>"
            ]
          },
          "metadata": {},
          "output_type": "display_data"
        },
        {
          "data": {
            "text/html": [
              " View run at <a href='https://wandb.ai/simone-bresciani/LLMs-Still-Can-t/runs/ybpmw80n' target=\"_blank\">https://wandb.ai/simone-bresciani/LLMs-Still-Can-t/runs/ybpmw80n</a>"
            ],
            "text/plain": [
              "<IPython.core.display.HTML object>"
            ]
          },
          "metadata": {},
          "output_type": "display_data"
        },
        {
          "name": "stdout",
          "output_type": "stream",
          "text": [
            "Completion Exception in example:  {'input': 'op i is the ith power of 10.\\nop 2', 'target': '10'}\n"
          ]
        }
      ],
      "source": [
        "#CHAIN OF THOUGHTS\n",
        "\n",
        "MULTIPLE_CHOICE_SUFFIX = \"Split the problem in steps, resolve the steps and then in the last line you just repeat the answer you choose.\"\n",
        "FREE_RESPONSE_SUFFIX = \"Split the problem in steps, resolve the steps and then in the last line answer just the result.\"\n",
        "\n",
        "for task in [anachronism, logical_sequence, color_HCL, color_RGB, color_HEX, color_HSL, matrixshapes, operators]:\n",
        "\n",
        "    wandb.init(project=\"LLMs-Still-Can-t\",config={\"model\": GPT4,\"shots\": 0})\n",
        "\n",
        "    suffix = MULTIPLE_CHOICE_SUFFIX if task.type == 'multiple_choice' else FREE_RESPONSE_SUFFIX\n",
        "    acc , df = task.evaluate(wandb.config.model, suffix, wandb.config.shots)\n",
        "\n",
        "    wandb.log({ \"accuracy\": acc, \"examples\": wandb.Table(dataframe=df)})\n",
        "\n",
        "    wandb.run.summary[\"system_prompt\"] = task.system_prompt + suffix\n",
        "    wandb.run.summary[\"model\"] = wandb.config.model\n",
        "    wandb.run.summary[\"shots\"] = wandb.config.shots\n",
        "    wandb.run.summary[\"name\"] = f\"ChainOfThoughts [{task.json_string}]\"\n",
        "\n",
        "    wandb.finish()\n"
      ]
    },
    {
      "cell_type": "code",
      "execution_count": null,
      "metadata": {},
      "outputs": [],
      "source": [
        "#baseline\n",
        "#explain\n",
        "#chain of thoughts (che valga per tutte le task)\n",
        "#few-shots(1 e 5)"
      ]
    }
  ],
  "metadata": {
    "colab": {
      "provenance": []
    },
    "kernelspec": {
      "display_name": "Python 3",
      "name": "python3"
    },
    "language_info": {
      "codemirror_mode": {
        "name": "ipython",
        "version": 3
      },
      "file_extension": ".py",
      "mimetype": "text/x-python",
      "name": "python",
      "nbconvert_exporter": "python",
      "pygments_lexer": "ipython3",
      "version": "3.12.1"
    }
  },
  "nbformat": 4,
  "nbformat_minor": 0
}
