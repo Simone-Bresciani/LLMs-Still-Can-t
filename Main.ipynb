{
  "cells": [
    {
      "cell_type": "code",
      "execution_count": null,
      "metadata": {},
      "outputs": [],
      "source": [
        "#from shrink_dataset import extract_datasets\n",
        "#extract_datasets()"
      ]
    },
    {
      "cell_type": "code",
      "execution_count": null,
      "metadata": {},
      "outputs": [],
      "source": [
        "import wandb\n",
        "from evaluate_task import Task\n",
        "GPT3_5 = \"gpt-3.5-turbo-0125\" #metti la preview\n",
        "GPT4 = \"gpt-4-0125-preview\"\n",
        "\n",
        "anachronism = Task('multiple_choice',\n",
        "                   'datasets/task_anachronisms.json',\n",
        "                   'Does the following sentence contain non-contemporaneous (anachronistic) elements?.')\n",
        "logical_sequence = Task('multiple_choice',\n",
        "                        'datasets/task_logical_sequence.json',\n",
        "                        \"Identify the correct chronological or sequential order of items in a list.\")\n",
        "color_HCL = Task('multiple_choice', 'datasets/task_color_HCL.json',\"\")\n",
        "color_RGB = Task('multiple_choice', 'datasets/task_color_RGB.json',\"\")\n",
        "color_HEX = Task('multiple_choice', 'datasets/task_color_HEX.json',\"\")\n",
        "color_HSL = Task('multiple_choice', 'datasets/task_color_HSL.json',\"\")\n",
        "matrixshapes = Task('free_response',\n",
        "                    'datasets/task_matrixshapes.json',\n",
        "                    \"Compute the final matrix shape after the given operations are performed.\")\n",
        "operators = Task('free_response',\n",
        "                    'datasets/task_operators.json',\n",
        "                    \"Given the definition of the op operator, compute the result.\")\n"
      ]
    },
    {
      "cell_type": "code",
      "execution_count": null,
      "metadata": {},
      "outputs": [],
      "source": [
        "#BASELINE\n",
        "\n",
        "MULTIPLE_CHOICE_SUFFIX = \"Just repeat the answer you choose.\"\n",
        "FREE_RESPONSE_SUFFIX = \"Please don't show me the steps, i just want to see the final result in one single line.\""
      ]
    },
    {
      "cell_type": "code",
      "execution_count": null,
      "metadata": {},
      "outputs": [],
      "source": [
        "#WITH EXPLANATION\n",
        "\n",
        "MULTIPLE_CHOICE_SUFFIX = \"First you explain your answer in 50 words, in the last line you answer just repeating the answer you choose.\"\n",
        "FREE_RESPONSE_SUFFIX = \"First you explain your answer in 50 words, in the last line you answer just the result.\"\n"
      ]
    },
    {
      "cell_type": "code",
      "execution_count": null,
      "metadata": {},
      "outputs": [],
      "source": [
        "#CHAIN OF THOUGHTS\n",
        "\n",
        "MULTIPLE_CHOICE_SUFFIX = \"Split the problem in steps, resolve the steps and then in the last line you just repeat the answer you choose.\"\n",
        "FREE_RESPONSE_SUFFIX = \"Split the problem in steps, resolve the steps and then in the last line answer just the result.\""
      ]
    },
    {
      "cell_type": "code",
      "execution_count": 13,
      "metadata": {},
      "outputs": [
        {
          "data": {
            "text/html": [
              "wandb version 0.16.3 is available!  To upgrade, please run:\n",
              " $ pip install wandb --upgrade"
            ],
            "text/plain": [
              "<IPython.core.display.HTML object>"
            ]
          },
          "metadata": {},
          "output_type": "display_data"
        },
        {
          "data": {
            "text/html": [
              "Tracking run with wandb version 0.16.2"
            ],
            "text/plain": [
              "<IPython.core.display.HTML object>"
            ]
          },
          "metadata": {},
          "output_type": "display_data"
        },
        {
          "data": {
            "text/html": [
              "Run data is saved locally in <code>c:\\Users\\simon\\VSCode-workspace\\LLMs-Still-Can-t\\wandb\\run-20240219_180007-l3p8q2lo</code>"
            ],
            "text/plain": [
              "<IPython.core.display.HTML object>"
            ]
          },
          "metadata": {},
          "output_type": "display_data"
        },
        {
          "data": {
            "text/html": [
              "Syncing run <strong><a href='https://wandb.ai/simone-bresciani/LLMs-Still-Can-t/runs/l3p8q2lo' target=\"_blank\">glistening-fuse-116</a></strong> to <a href='https://wandb.ai/simone-bresciani/LLMs-Still-Can-t' target=\"_blank\">Weights & Biases</a> (<a href='https://wandb.me/run' target=\"_blank\">docs</a>)<br/>"
            ],
            "text/plain": [
              "<IPython.core.display.HTML object>"
            ]
          },
          "metadata": {},
          "output_type": "display_data"
        },
        {
          "data": {
            "text/html": [
              " View project at <a href='https://wandb.ai/simone-bresciani/LLMs-Still-Can-t' target=\"_blank\">https://wandb.ai/simone-bresciani/LLMs-Still-Can-t</a>"
            ],
            "text/plain": [
              "<IPython.core.display.HTML object>"
            ]
          },
          "metadata": {},
          "output_type": "display_data"
        },
        {
          "data": {
            "text/html": [
              " View run at <a href='https://wandb.ai/simone-bresciani/LLMs-Still-Can-t/runs/l3p8q2lo' target=\"_blank\">https://wandb.ai/simone-bresciani/LLMs-Still-Can-t/runs/l3p8q2lo</a>"
            ],
            "text/plain": [
              "<IPython.core.display.HTML object>"
            ]
          },
          "metadata": {},
          "output_type": "display_data"
        },
        {
          "data": {
            "text/html": [
              "<style>\n",
              "    table.wandb td:nth-child(1) { padding: 0 10px; text-align: left ; width: auto;} td:nth-child(2) {text-align: left ; width: 100%}\n",
              "    .wandb-row { display: flex; flex-direction: row; flex-wrap: wrap; justify-content: flex-start; width: 100% }\n",
              "    .wandb-col { display: flex; flex-direction: column; flex-basis: 100%; flex: 1; padding: 10px; }\n",
              "    </style>\n",
              "<div class=\"wandb-row\"><div class=\"wandb-col\"><h3>Run history:</h3><br/><table class=\"wandb\"><tr><td>accuracy</td><td>▁</td></tr></table><br/></div><div class=\"wandb-col\"><h3>Run summary:</h3><br/><table class=\"wandb\"><tr><td>accuracy</td><td>0.77</td></tr><tr><td>model</td><td>gpt-4-0125-preview</td></tr><tr><td>name</td><td>Baseline [datasets/t...</td></tr><tr><td>shots</td><td>5</td></tr><tr><td>system_prompt</td><td>Does the following s...</td></tr></table><br/></div></div>"
            ],
            "text/plain": [
              "<IPython.core.display.HTML object>"
            ]
          },
          "metadata": {},
          "output_type": "display_data"
        },
        {
          "data": {
            "text/html": [
              " View run <strong style=\"color:#cdcd00\">glistening-fuse-116</strong> at: <a href='https://wandb.ai/simone-bresciani/LLMs-Still-Can-t/runs/l3p8q2lo' target=\"_blank\">https://wandb.ai/simone-bresciani/LLMs-Still-Can-t/runs/l3p8q2lo</a><br/>Synced 4 W&B file(s), 1 media file(s), 1 artifact file(s) and 0 other file(s)"
            ],
            "text/plain": [
              "<IPython.core.display.HTML object>"
            ]
          },
          "metadata": {},
          "output_type": "display_data"
        },
        {
          "data": {
            "text/html": [
              "Find logs at: <code>.\\wandb\\run-20240219_180007-l3p8q2lo\\logs</code>"
            ],
            "text/plain": [
              "<IPython.core.display.HTML object>"
            ]
          },
          "metadata": {},
          "output_type": "display_data"
        },
        {
          "data": {
            "text/html": [
              "wandb version 0.16.3 is available!  To upgrade, please run:\n",
              " $ pip install wandb --upgrade"
            ],
            "text/plain": [
              "<IPython.core.display.HTML object>"
            ]
          },
          "metadata": {},
          "output_type": "display_data"
        },
        {
          "data": {
            "text/html": [
              "Tracking run with wandb version 0.16.2"
            ],
            "text/plain": [
              "<IPython.core.display.HTML object>"
            ]
          },
          "metadata": {},
          "output_type": "display_data"
        },
        {
          "data": {
            "text/html": [
              "Run data is saved locally in <code>c:\\Users\\simon\\VSCode-workspace\\LLMs-Still-Can-t\\wandb\\run-20240219_180212-xp913oo0</code>"
            ],
            "text/plain": [
              "<IPython.core.display.HTML object>"
            ]
          },
          "metadata": {},
          "output_type": "display_data"
        },
        {
          "data": {
            "text/html": [
              "Syncing run <strong><a href='https://wandb.ai/simone-bresciani/LLMs-Still-Can-t/runs/xp913oo0' target=\"_blank\">glittering-rabbit-117</a></strong> to <a href='https://wandb.ai/simone-bresciani/LLMs-Still-Can-t' target=\"_blank\">Weights & Biases</a> (<a href='https://wandb.me/run' target=\"_blank\">docs</a>)<br/>"
            ],
            "text/plain": [
              "<IPython.core.display.HTML object>"
            ]
          },
          "metadata": {},
          "output_type": "display_data"
        },
        {
          "data": {
            "text/html": [
              " View project at <a href='https://wandb.ai/simone-bresciani/LLMs-Still-Can-t' target=\"_blank\">https://wandb.ai/simone-bresciani/LLMs-Still-Can-t</a>"
            ],
            "text/plain": [
              "<IPython.core.display.HTML object>"
            ]
          },
          "metadata": {},
          "output_type": "display_data"
        },
        {
          "data": {
            "text/html": [
              " View run at <a href='https://wandb.ai/simone-bresciani/LLMs-Still-Can-t/runs/xp913oo0' target=\"_blank\">https://wandb.ai/simone-bresciani/LLMs-Still-Can-t/runs/xp913oo0</a>"
            ],
            "text/plain": [
              "<IPython.core.display.HTML object>"
            ]
          },
          "metadata": {},
          "output_type": "display_data"
        },
        {
          "data": {
            "text/html": [
              "<style>\n",
              "    table.wandb td:nth-child(1) { padding: 0 10px; text-align: left ; width: auto;} td:nth-child(2) {text-align: left ; width: 100%}\n",
              "    .wandb-row { display: flex; flex-direction: row; flex-wrap: wrap; justify-content: flex-start; width: 100% }\n",
              "    .wandb-col { display: flex; flex-direction: column; flex-basis: 100%; flex: 1; padding: 10px; }\n",
              "    </style>\n",
              "<div class=\"wandb-row\"><div class=\"wandb-col\"><h3>Run history:</h3><br/><table class=\"wandb\"><tr><td>accuracy</td><td>▁</td></tr></table><br/></div><div class=\"wandb-col\"><h3>Run summary:</h3><br/><table class=\"wandb\"><tr><td>accuracy</td><td>0.79</td></tr><tr><td>model</td><td>gpt-4-0125-preview</td></tr><tr><td>name</td><td>Baseline [datasets/t...</td></tr><tr><td>shots</td><td>5</td></tr><tr><td>system_prompt</td><td>Identify the correct...</td></tr></table><br/></div></div>"
            ],
            "text/plain": [
              "<IPython.core.display.HTML object>"
            ]
          },
          "metadata": {},
          "output_type": "display_data"
        },
        {
          "data": {
            "text/html": [
              " View run <strong style=\"color:#cdcd00\">glittering-rabbit-117</strong> at: <a href='https://wandb.ai/simone-bresciani/LLMs-Still-Can-t/runs/xp913oo0' target=\"_blank\">https://wandb.ai/simone-bresciani/LLMs-Still-Can-t/runs/xp913oo0</a><br/>Synced 4 W&B file(s), 1 media file(s), 1 artifact file(s) and 0 other file(s)"
            ],
            "text/plain": [
              "<IPython.core.display.HTML object>"
            ]
          },
          "metadata": {},
          "output_type": "display_data"
        },
        {
          "data": {
            "text/html": [
              "Find logs at: <code>.\\wandb\\run-20240219_180212-xp913oo0\\logs</code>"
            ],
            "text/plain": [
              "<IPython.core.display.HTML object>"
            ]
          },
          "metadata": {},
          "output_type": "display_data"
        },
        {
          "data": {
            "text/html": [
              "wandb version 0.16.3 is available!  To upgrade, please run:\n",
              " $ pip install wandb --upgrade"
            ],
            "text/plain": [
              "<IPython.core.display.HTML object>"
            ]
          },
          "metadata": {},
          "output_type": "display_data"
        },
        {
          "data": {
            "text/html": [
              "Tracking run with wandb version 0.16.2"
            ],
            "text/plain": [
              "<IPython.core.display.HTML object>"
            ]
          },
          "metadata": {},
          "output_type": "display_data"
        },
        {
          "data": {
            "text/html": [
              "Run data is saved locally in <code>c:\\Users\\simon\\VSCode-workspace\\LLMs-Still-Can-t\\wandb\\run-20240219_180428-iwfaook7</code>"
            ],
            "text/plain": [
              "<IPython.core.display.HTML object>"
            ]
          },
          "metadata": {},
          "output_type": "display_data"
        },
        {
          "data": {
            "text/html": [
              "Syncing run <strong><a href='https://wandb.ai/simone-bresciani/LLMs-Still-Can-t/runs/iwfaook7' target=\"_blank\">scintillating-noodles-118</a></strong> to <a href='https://wandb.ai/simone-bresciani/LLMs-Still-Can-t' target=\"_blank\">Weights & Biases</a> (<a href='https://wandb.me/run' target=\"_blank\">docs</a>)<br/>"
            ],
            "text/plain": [
              "<IPython.core.display.HTML object>"
            ]
          },
          "metadata": {},
          "output_type": "display_data"
        },
        {
          "data": {
            "text/html": [
              " View project at <a href='https://wandb.ai/simone-bresciani/LLMs-Still-Can-t' target=\"_blank\">https://wandb.ai/simone-bresciani/LLMs-Still-Can-t</a>"
            ],
            "text/plain": [
              "<IPython.core.display.HTML object>"
            ]
          },
          "metadata": {},
          "output_type": "display_data"
        },
        {
          "data": {
            "text/html": [
              " View run at <a href='https://wandb.ai/simone-bresciani/LLMs-Still-Can-t/runs/iwfaook7' target=\"_blank\">https://wandb.ai/simone-bresciani/LLMs-Still-Can-t/runs/iwfaook7</a>"
            ],
            "text/plain": [
              "<IPython.core.display.HTML object>"
            ]
          },
          "metadata": {},
          "output_type": "display_data"
        },
        {
          "data": {
            "text/html": [
              "<style>\n",
              "    table.wandb td:nth-child(1) { padding: 0 10px; text-align: left ; width: auto;} td:nth-child(2) {text-align: left ; width: 100%}\n",
              "    .wandb-row { display: flex; flex-direction: row; flex-wrap: wrap; justify-content: flex-start; width: 100% }\n",
              "    .wandb-col { display: flex; flex-direction: column; flex-basis: 100%; flex: 1; padding: 10px; }\n",
              "    </style>\n",
              "<div class=\"wandb-row\"><div class=\"wandb-col\"><h3>Run history:</h3><br/><table class=\"wandb\"><tr><td>accuracy</td><td>▁</td></tr></table><br/></div><div class=\"wandb-col\"><h3>Run summary:</h3><br/><table class=\"wandb\"><tr><td>accuracy</td><td>0.67</td></tr><tr><td>model</td><td>gpt-4-0125-preview</td></tr><tr><td>name</td><td>Baseline [datasets/t...</td></tr><tr><td>shots</td><td>5</td></tr><tr><td>system_prompt</td><td>Just repeat the answ...</td></tr></table><br/></div></div>"
            ],
            "text/plain": [
              "<IPython.core.display.HTML object>"
            ]
          },
          "metadata": {},
          "output_type": "display_data"
        },
        {
          "data": {
            "text/html": [
              " View run <strong style=\"color:#cdcd00\">scintillating-noodles-118</strong> at: <a href='https://wandb.ai/simone-bresciani/LLMs-Still-Can-t/runs/iwfaook7' target=\"_blank\">https://wandb.ai/simone-bresciani/LLMs-Still-Can-t/runs/iwfaook7</a><br/>Synced 4 W&B file(s), 1 media file(s), 1 artifact file(s) and 0 other file(s)"
            ],
            "text/plain": [
              "<IPython.core.display.HTML object>"
            ]
          },
          "metadata": {},
          "output_type": "display_data"
        },
        {
          "data": {
            "text/html": [
              "Find logs at: <code>.\\wandb\\run-20240219_180428-iwfaook7\\logs</code>"
            ],
            "text/plain": [
              "<IPython.core.display.HTML object>"
            ]
          },
          "metadata": {},
          "output_type": "display_data"
        },
        {
          "data": {
            "text/html": [
              "wandb version 0.16.3 is available!  To upgrade, please run:\n",
              " $ pip install wandb --upgrade"
            ],
            "text/plain": [
              "<IPython.core.display.HTML object>"
            ]
          },
          "metadata": {},
          "output_type": "display_data"
        },
        {
          "data": {
            "text/html": [
              "Tracking run with wandb version 0.16.2"
            ],
            "text/plain": [
              "<IPython.core.display.HTML object>"
            ]
          },
          "metadata": {},
          "output_type": "display_data"
        },
        {
          "data": {
            "text/html": [
              "Run data is saved locally in <code>c:\\Users\\simon\\VSCode-workspace\\LLMs-Still-Can-t\\wandb\\run-20240219_180519-1usv22ni</code>"
            ],
            "text/plain": [
              "<IPython.core.display.HTML object>"
            ]
          },
          "metadata": {},
          "output_type": "display_data"
        },
        {
          "data": {
            "text/html": [
              "Syncing run <strong><a href='https://wandb.ai/simone-bresciani/LLMs-Still-Can-t/runs/1usv22ni' target=\"_blank\">twinkling-pig-119</a></strong> to <a href='https://wandb.ai/simone-bresciani/LLMs-Still-Can-t' target=\"_blank\">Weights & Biases</a> (<a href='https://wandb.me/run' target=\"_blank\">docs</a>)<br/>"
            ],
            "text/plain": [
              "<IPython.core.display.HTML object>"
            ]
          },
          "metadata": {},
          "output_type": "display_data"
        },
        {
          "data": {
            "text/html": [
              " View project at <a href='https://wandb.ai/simone-bresciani/LLMs-Still-Can-t' target=\"_blank\">https://wandb.ai/simone-bresciani/LLMs-Still-Can-t</a>"
            ],
            "text/plain": [
              "<IPython.core.display.HTML object>"
            ]
          },
          "metadata": {},
          "output_type": "display_data"
        },
        {
          "data": {
            "text/html": [
              " View run at <a href='https://wandb.ai/simone-bresciani/LLMs-Still-Can-t/runs/1usv22ni' target=\"_blank\">https://wandb.ai/simone-bresciani/LLMs-Still-Can-t/runs/1usv22ni</a>"
            ],
            "text/plain": [
              "<IPython.core.display.HTML object>"
            ]
          },
          "metadata": {},
          "output_type": "display_data"
        },
        {
          "data": {
            "text/html": [
              "<style>\n",
              "    table.wandb td:nth-child(1) { padding: 0 10px; text-align: left ; width: auto;} td:nth-child(2) {text-align: left ; width: 100%}\n",
              "    .wandb-row { display: flex; flex-direction: row; flex-wrap: wrap; justify-content: flex-start; width: 100% }\n",
              "    .wandb-col { display: flex; flex-direction: column; flex-basis: 100%; flex: 1; padding: 10px; }\n",
              "    </style>\n",
              "<div class=\"wandb-row\"><div class=\"wandb-col\"><h3>Run history:</h3><br/><table class=\"wandb\"><tr><td>accuracy</td><td>▁</td></tr></table><br/></div><div class=\"wandb-col\"><h3>Run summary:</h3><br/><table class=\"wandb\"><tr><td>accuracy</td><td>0.6</td></tr><tr><td>model</td><td>gpt-4-0125-preview</td></tr><tr><td>name</td><td>Baseline [datasets/t...</td></tr><tr><td>shots</td><td>5</td></tr><tr><td>system_prompt</td><td>Just repeat the answ...</td></tr></table><br/></div></div>"
            ],
            "text/plain": [
              "<IPython.core.display.HTML object>"
            ]
          },
          "metadata": {},
          "output_type": "display_data"
        },
        {
          "data": {
            "text/html": [
              " View run <strong style=\"color:#cdcd00\">twinkling-pig-119</strong> at: <a href='https://wandb.ai/simone-bresciani/LLMs-Still-Can-t/runs/1usv22ni' target=\"_blank\">https://wandb.ai/simone-bresciani/LLMs-Still-Can-t/runs/1usv22ni</a><br/>Synced 4 W&B file(s), 1 media file(s), 1 artifact file(s) and 0 other file(s)"
            ],
            "text/plain": [
              "<IPython.core.display.HTML object>"
            ]
          },
          "metadata": {},
          "output_type": "display_data"
        },
        {
          "data": {
            "text/html": [
              "Find logs at: <code>.\\wandb\\run-20240219_180519-1usv22ni\\logs</code>"
            ],
            "text/plain": [
              "<IPython.core.display.HTML object>"
            ]
          },
          "metadata": {},
          "output_type": "display_data"
        },
        {
          "data": {
            "text/html": [
              "wandb version 0.16.3 is available!  To upgrade, please run:\n",
              " $ pip install wandb --upgrade"
            ],
            "text/plain": [
              "<IPython.core.display.HTML object>"
            ]
          },
          "metadata": {},
          "output_type": "display_data"
        },
        {
          "data": {
            "text/html": [
              "Tracking run with wandb version 0.16.2"
            ],
            "text/plain": [
              "<IPython.core.display.HTML object>"
            ]
          },
          "metadata": {},
          "output_type": "display_data"
        },
        {
          "data": {
            "text/html": [
              "Run data is saved locally in <code>c:\\Users\\simon\\VSCode-workspace\\LLMs-Still-Can-t\\wandb\\run-20240219_180607-7f1fyc7m</code>"
            ],
            "text/plain": [
              "<IPython.core.display.HTML object>"
            ]
          },
          "metadata": {},
          "output_type": "display_data"
        },
        {
          "data": {
            "text/html": [
              "Syncing run <strong><a href='https://wandb.ai/simone-bresciani/LLMs-Still-Can-t/runs/7f1fyc7m' target=\"_blank\">crimson-noodles-120</a></strong> to <a href='https://wandb.ai/simone-bresciani/LLMs-Still-Can-t' target=\"_blank\">Weights & Biases</a> (<a href='https://wandb.me/run' target=\"_blank\">docs</a>)<br/>"
            ],
            "text/plain": [
              "<IPython.core.display.HTML object>"
            ]
          },
          "metadata": {},
          "output_type": "display_data"
        },
        {
          "data": {
            "text/html": [
              " View project at <a href='https://wandb.ai/simone-bresciani/LLMs-Still-Can-t' target=\"_blank\">https://wandb.ai/simone-bresciani/LLMs-Still-Can-t</a>"
            ],
            "text/plain": [
              "<IPython.core.display.HTML object>"
            ]
          },
          "metadata": {},
          "output_type": "display_data"
        },
        {
          "data": {
            "text/html": [
              " View run at <a href='https://wandb.ai/simone-bresciani/LLMs-Still-Can-t/runs/7f1fyc7m' target=\"_blank\">https://wandb.ai/simone-bresciani/LLMs-Still-Can-t/runs/7f1fyc7m</a>"
            ],
            "text/plain": [
              "<IPython.core.display.HTML object>"
            ]
          },
          "metadata": {},
          "output_type": "display_data"
        },
        {
          "data": {
            "text/html": [
              "<style>\n",
              "    table.wandb td:nth-child(1) { padding: 0 10px; text-align: left ; width: auto;} td:nth-child(2) {text-align: left ; width: 100%}\n",
              "    .wandb-row { display: flex; flex-direction: row; flex-wrap: wrap; justify-content: flex-start; width: 100% }\n",
              "    .wandb-col { display: flex; flex-direction: column; flex-basis: 100%; flex: 1; padding: 10px; }\n",
              "    </style>\n",
              "<div class=\"wandb-row\"><div class=\"wandb-col\"><h3>Run history:</h3><br/><table class=\"wandb\"><tr><td>accuracy</td><td>▁</td></tr></table><br/></div><div class=\"wandb-col\"><h3>Run summary:</h3><br/><table class=\"wandb\"><tr><td>accuracy</td><td>0.53</td></tr><tr><td>model</td><td>gpt-4-0125-preview</td></tr><tr><td>name</td><td>Baseline [datasets/t...</td></tr><tr><td>shots</td><td>5</td></tr><tr><td>system_prompt</td><td>Just repeat the answ...</td></tr></table><br/></div></div>"
            ],
            "text/plain": [
              "<IPython.core.display.HTML object>"
            ]
          },
          "metadata": {},
          "output_type": "display_data"
        },
        {
          "data": {
            "text/html": [
              " View run <strong style=\"color:#cdcd00\">crimson-noodles-120</strong> at: <a href='https://wandb.ai/simone-bresciani/LLMs-Still-Can-t/runs/7f1fyc7m' target=\"_blank\">https://wandb.ai/simone-bresciani/LLMs-Still-Can-t/runs/7f1fyc7m</a><br/>Synced 4 W&B file(s), 1 media file(s), 1 artifact file(s) and 0 other file(s)"
            ],
            "text/plain": [
              "<IPython.core.display.HTML object>"
            ]
          },
          "metadata": {},
          "output_type": "display_data"
        },
        {
          "data": {
            "text/html": [
              "Find logs at: <code>.\\wandb\\run-20240219_180607-7f1fyc7m\\logs</code>"
            ],
            "text/plain": [
              "<IPython.core.display.HTML object>"
            ]
          },
          "metadata": {},
          "output_type": "display_data"
        },
        {
          "data": {
            "text/html": [
              "wandb version 0.16.3 is available!  To upgrade, please run:\n",
              " $ pip install wandb --upgrade"
            ],
            "text/plain": [
              "<IPython.core.display.HTML object>"
            ]
          },
          "metadata": {},
          "output_type": "display_data"
        },
        {
          "data": {
            "text/html": [
              "Tracking run with wandb version 0.16.2"
            ],
            "text/plain": [
              "<IPython.core.display.HTML object>"
            ]
          },
          "metadata": {},
          "output_type": "display_data"
        },
        {
          "data": {
            "text/html": [
              "Run data is saved locally in <code>c:\\Users\\simon\\VSCode-workspace\\LLMs-Still-Can-t\\wandb\\run-20240219_180654-1uyxo0d4</code>"
            ],
            "text/plain": [
              "<IPython.core.display.HTML object>"
            ]
          },
          "metadata": {},
          "output_type": "display_data"
        },
        {
          "data": {
            "text/html": [
              "Syncing run <strong><a href='https://wandb.ai/simone-bresciani/LLMs-Still-Can-t/runs/1uyxo0d4' target=\"_blank\">alight-rooster-121</a></strong> to <a href='https://wandb.ai/simone-bresciani/LLMs-Still-Can-t' target=\"_blank\">Weights & Biases</a> (<a href='https://wandb.me/run' target=\"_blank\">docs</a>)<br/>"
            ],
            "text/plain": [
              "<IPython.core.display.HTML object>"
            ]
          },
          "metadata": {},
          "output_type": "display_data"
        },
        {
          "data": {
            "text/html": [
              " View project at <a href='https://wandb.ai/simone-bresciani/LLMs-Still-Can-t' target=\"_blank\">https://wandb.ai/simone-bresciani/LLMs-Still-Can-t</a>"
            ],
            "text/plain": [
              "<IPython.core.display.HTML object>"
            ]
          },
          "metadata": {},
          "output_type": "display_data"
        },
        {
          "data": {
            "text/html": [
              " View run at <a href='https://wandb.ai/simone-bresciani/LLMs-Still-Can-t/runs/1uyxo0d4' target=\"_blank\">https://wandb.ai/simone-bresciani/LLMs-Still-Can-t/runs/1uyxo0d4</a>"
            ],
            "text/plain": [
              "<IPython.core.display.HTML object>"
            ]
          },
          "metadata": {},
          "output_type": "display_data"
        },
        {
          "data": {
            "text/html": [
              "<style>\n",
              "    table.wandb td:nth-child(1) { padding: 0 10px; text-align: left ; width: auto;} td:nth-child(2) {text-align: left ; width: 100%}\n",
              "    .wandb-row { display: flex; flex-direction: row; flex-wrap: wrap; justify-content: flex-start; width: 100% }\n",
              "    .wandb-col { display: flex; flex-direction: column; flex-basis: 100%; flex: 1; padding: 10px; }\n",
              "    </style>\n",
              "<div class=\"wandb-row\"><div class=\"wandb-col\"><h3>Run history:</h3><br/><table class=\"wandb\"><tr><td>accuracy</td><td>▁</td></tr></table><br/></div><div class=\"wandb-col\"><h3>Run summary:</h3><br/><table class=\"wandb\"><tr><td>accuracy</td><td>0.6</td></tr><tr><td>model</td><td>gpt-4-0125-preview</td></tr><tr><td>name</td><td>Baseline [datasets/t...</td></tr><tr><td>shots</td><td>5</td></tr><tr><td>system_prompt</td><td>Just repeat the answ...</td></tr></table><br/></div></div>"
            ],
            "text/plain": [
              "<IPython.core.display.HTML object>"
            ]
          },
          "metadata": {},
          "output_type": "display_data"
        },
        {
          "data": {
            "text/html": [
              " View run <strong style=\"color:#cdcd00\">alight-rooster-121</strong> at: <a href='https://wandb.ai/simone-bresciani/LLMs-Still-Can-t/runs/1uyxo0d4' target=\"_blank\">https://wandb.ai/simone-bresciani/LLMs-Still-Can-t/runs/1uyxo0d4</a><br/>Synced 4 W&B file(s), 1 media file(s), 1 artifact file(s) and 0 other file(s)"
            ],
            "text/plain": [
              "<IPython.core.display.HTML object>"
            ]
          },
          "metadata": {},
          "output_type": "display_data"
        },
        {
          "data": {
            "text/html": [
              "Find logs at: <code>.\\wandb\\run-20240219_180654-1uyxo0d4\\logs</code>"
            ],
            "text/plain": [
              "<IPython.core.display.HTML object>"
            ]
          },
          "metadata": {},
          "output_type": "display_data"
        },
        {
          "data": {
            "text/html": [
              "wandb version 0.16.3 is available!  To upgrade, please run:\n",
              " $ pip install wandb --upgrade"
            ],
            "text/plain": [
              "<IPython.core.display.HTML object>"
            ]
          },
          "metadata": {},
          "output_type": "display_data"
        },
        {
          "data": {
            "text/html": [
              "Tracking run with wandb version 0.16.2"
            ],
            "text/plain": [
              "<IPython.core.display.HTML object>"
            ]
          },
          "metadata": {},
          "output_type": "display_data"
        },
        {
          "data": {
            "text/html": [
              "Run data is saved locally in <code>c:\\Users\\simon\\VSCode-workspace\\LLMs-Still-Can-t\\wandb\\run-20240219_180742-8djplyn8</code>"
            ],
            "text/plain": [
              "<IPython.core.display.HTML object>"
            ]
          },
          "metadata": {},
          "output_type": "display_data"
        },
        {
          "data": {
            "text/html": [
              "Syncing run <strong><a href='https://wandb.ai/simone-bresciani/LLMs-Still-Can-t/runs/8djplyn8' target=\"_blank\">floating-rabbit-122</a></strong> to <a href='https://wandb.ai/simone-bresciani/LLMs-Still-Can-t' target=\"_blank\">Weights & Biases</a> (<a href='https://wandb.me/run' target=\"_blank\">docs</a>)<br/>"
            ],
            "text/plain": [
              "<IPython.core.display.HTML object>"
            ]
          },
          "metadata": {},
          "output_type": "display_data"
        },
        {
          "data": {
            "text/html": [
              " View project at <a href='https://wandb.ai/simone-bresciani/LLMs-Still-Can-t' target=\"_blank\">https://wandb.ai/simone-bresciani/LLMs-Still-Can-t</a>"
            ],
            "text/plain": [
              "<IPython.core.display.HTML object>"
            ]
          },
          "metadata": {},
          "output_type": "display_data"
        },
        {
          "data": {
            "text/html": [
              " View run at <a href='https://wandb.ai/simone-bresciani/LLMs-Still-Can-t/runs/8djplyn8' target=\"_blank\">https://wandb.ai/simone-bresciani/LLMs-Still-Can-t/runs/8djplyn8</a>"
            ],
            "text/plain": [
              "<IPython.core.display.HTML object>"
            ]
          },
          "metadata": {},
          "output_type": "display_data"
        },
        {
          "data": {
            "text/html": [
              "<style>\n",
              "    table.wandb td:nth-child(1) { padding: 0 10px; text-align: left ; width: auto;} td:nth-child(2) {text-align: left ; width: 100%}\n",
              "    .wandb-row { display: flex; flex-direction: row; flex-wrap: wrap; justify-content: flex-start; width: 100% }\n",
              "    .wandb-col { display: flex; flex-direction: column; flex-basis: 100%; flex: 1; padding: 10px; }\n",
              "    </style>\n",
              "<div class=\"wandb-row\"><div class=\"wandb-col\"><h3>Run history:</h3><br/><table class=\"wandb\"><tr><td>accuracy</td><td>▁</td></tr></table><br/></div><div class=\"wandb-col\"><h3>Run summary:</h3><br/><table class=\"wandb\"><tr><td>accuracy</td><td>0.7</td></tr><tr><td>model</td><td>gpt-4-0125-preview</td></tr><tr><td>name</td><td>Baseline [datasets/t...</td></tr><tr><td>shots</td><td>5</td></tr><tr><td>system_prompt</td><td>Compute the final ma...</td></tr></table><br/></div></div>"
            ],
            "text/plain": [
              "<IPython.core.display.HTML object>"
            ]
          },
          "metadata": {},
          "output_type": "display_data"
        },
        {
          "data": {
            "text/html": [
              " View run <strong style=\"color:#cdcd00\">floating-rabbit-122</strong> at: <a href='https://wandb.ai/simone-bresciani/LLMs-Still-Can-t/runs/8djplyn8' target=\"_blank\">https://wandb.ai/simone-bresciani/LLMs-Still-Can-t/runs/8djplyn8</a><br/>Synced 4 W&B file(s), 1 media file(s), 1 artifact file(s) and 0 other file(s)"
            ],
            "text/plain": [
              "<IPython.core.display.HTML object>"
            ]
          },
          "metadata": {},
          "output_type": "display_data"
        },
        {
          "data": {
            "text/html": [
              "Find logs at: <code>.\\wandb\\run-20240219_180742-8djplyn8\\logs</code>"
            ],
            "text/plain": [
              "<IPython.core.display.HTML object>"
            ]
          },
          "metadata": {},
          "output_type": "display_data"
        },
        {
          "data": {
            "text/html": [
              "wandb version 0.16.3 is available!  To upgrade, please run:\n",
              " $ pip install wandb --upgrade"
            ],
            "text/plain": [
              "<IPython.core.display.HTML object>"
            ]
          },
          "metadata": {},
          "output_type": "display_data"
        },
        {
          "data": {
            "text/html": [
              "Tracking run with wandb version 0.16.2"
            ],
            "text/plain": [
              "<IPython.core.display.HTML object>"
            ]
          },
          "metadata": {},
          "output_type": "display_data"
        },
        {
          "data": {
            "text/html": [
              "Run data is saved locally in <code>c:\\Users\\simon\\VSCode-workspace\\LLMs-Still-Can-t\\wandb\\run-20240219_181058-19x01mwd</code>"
            ],
            "text/plain": [
              "<IPython.core.display.HTML object>"
            ]
          },
          "metadata": {},
          "output_type": "display_data"
        },
        {
          "data": {
            "text/html": [
              "Syncing run <strong><a href='https://wandb.ai/simone-bresciani/LLMs-Still-Can-t/runs/19x01mwd' target=\"_blank\">scintillating-chrysanthemum-123</a></strong> to <a href='https://wandb.ai/simone-bresciani/LLMs-Still-Can-t' target=\"_blank\">Weights & Biases</a> (<a href='https://wandb.me/run' target=\"_blank\">docs</a>)<br/>"
            ],
            "text/plain": [
              "<IPython.core.display.HTML object>"
            ]
          },
          "metadata": {},
          "output_type": "display_data"
        },
        {
          "data": {
            "text/html": [
              " View project at <a href='https://wandb.ai/simone-bresciani/LLMs-Still-Can-t' target=\"_blank\">https://wandb.ai/simone-bresciani/LLMs-Still-Can-t</a>"
            ],
            "text/plain": [
              "<IPython.core.display.HTML object>"
            ]
          },
          "metadata": {},
          "output_type": "display_data"
        },
        {
          "data": {
            "text/html": [
              " View run at <a href='https://wandb.ai/simone-bresciani/LLMs-Still-Can-t/runs/19x01mwd' target=\"_blank\">https://wandb.ai/simone-bresciani/LLMs-Still-Can-t/runs/19x01mwd</a>"
            ],
            "text/plain": [
              "<IPython.core.display.HTML object>"
            ]
          },
          "metadata": {},
          "output_type": "display_data"
        },
        {
          "data": {
            "text/html": [
              "<style>\n",
              "    table.wandb td:nth-child(1) { padding: 0 10px; text-align: left ; width: auto;} td:nth-child(2) {text-align: left ; width: 100%}\n",
              "    .wandb-row { display: flex; flex-direction: row; flex-wrap: wrap; justify-content: flex-start; width: 100% }\n",
              "    .wandb-col { display: flex; flex-direction: column; flex-basis: 100%; flex: 1; padding: 10px; }\n",
              "    </style>\n",
              "<div class=\"wandb-row\"><div class=\"wandb-col\"><h3>Run history:</h3><br/><table class=\"wandb\"><tr><td>accuracy</td><td>▁</td></tr></table><br/></div><div class=\"wandb-col\"><h3>Run summary:</h3><br/><table class=\"wandb\"><tr><td>accuracy</td><td>0.92</td></tr><tr><td>model</td><td>gpt-4-0125-preview</td></tr><tr><td>name</td><td>Baseline [datasets/t...</td></tr><tr><td>shots</td><td>5</td></tr><tr><td>system_prompt</td><td>Given the definition...</td></tr></table><br/></div></div>"
            ],
            "text/plain": [
              "<IPython.core.display.HTML object>"
            ]
          },
          "metadata": {},
          "output_type": "display_data"
        },
        {
          "data": {
            "text/html": [
              " View run <strong style=\"color:#cdcd00\">scintillating-chrysanthemum-123</strong> at: <a href='https://wandb.ai/simone-bresciani/LLMs-Still-Can-t/runs/19x01mwd' target=\"_blank\">https://wandb.ai/simone-bresciani/LLMs-Still-Can-t/runs/19x01mwd</a><br/>Synced 4 W&B file(s), 1 media file(s), 1 artifact file(s) and 0 other file(s)"
            ],
            "text/plain": [
              "<IPython.core.display.HTML object>"
            ]
          },
          "metadata": {},
          "output_type": "display_data"
        },
        {
          "data": {
            "text/html": [
              "Find logs at: <code>.\\wandb\\run-20240219_181058-19x01mwd\\logs</code>"
            ],
            "text/plain": [
              "<IPython.core.display.HTML object>"
            ]
          },
          "metadata": {},
          "output_type": "display_data"
        }
      ],
      "source": [
        "#FEW-SHOTS\n",
        "\n",
        "#starting from the baseline suffixes\n",
        "MULTIPLE_CHOICE_SUFFIX = \"Just repeat the answer you choose.\"\n",
        "FREE_RESPONSE_SUFFIX = \"Please don't show me the steps, i just want to see the final result in one single line.\"\n",
        "\n",
        "for task in [anachronism, logical_sequence, color_HCL, color_RGB, color_HEX, color_HSL, matrixshapes, operators]:\n",
        "\n",
        "    wandb.init(project=\"LLMs-Still-Can-t\",config={\"model\": GPT4,\"shots\": 5})\n",
        "\n",
        "    suffix = MULTIPLE_CHOICE_SUFFIX if task.type == 'multiple_choice' else FREE_RESPONSE_SUFFIX\n",
        "    acc , df = task.evaluate(wandb.config.model, suffix, wandb.config.shots)\n",
        "\n",
        "    wandb.log({ \"accuracy\": acc, \"examples\": wandb.Table(dataframe=df)})\n",
        "\n",
        "    wandb.run.summary[\"system_prompt\"] = task.system_prompt + suffix\n",
        "    wandb.run.summary[\"model\"] = wandb.config.model\n",
        "    wandb.run.summary[\"shots\"] = wandb.config.shots\n",
        "    wandb.run.summary[\"name\"] = f\"Baseline [{task.json_string}]\"\n",
        "\n",
        "    wandb.finish()\n"
      ]
    },
    {
      "cell_type": "code",
      "execution_count": null,
      "metadata": {},
      "outputs": [],
      "source": [
        "#baseline\n",
        "#explain\n",
        "#chain of thoughts (che valga per tutte le task)\n",
        "#few-shots(1 e 5) bilancia i gli shots: devono contenere più scelte possibili, non solo una.\n",
        "\n",
        "#matplot lib per fare i grafici delle accuracy: per ogni task crea un grafico con accuracy in ascisse e prompt in asse\n",
        "#fanne due per ogni task cambiando il modello e metti in grafico a doppia barra.\n"
      ]
    }
  ],
  "metadata": {
    "colab": {
      "provenance": []
    },
    "kernelspec": {
      "display_name": "Python 3",
      "name": "python3"
    },
    "language_info": {
      "codemirror_mode": {
        "name": "ipython",
        "version": 3
      },
      "file_extension": ".py",
      "mimetype": "text/x-python",
      "name": "python",
      "nbconvert_exporter": "python",
      "pygments_lexer": "ipython3",
      "version": "3.12.1"
    }
  },
  "nbformat": 4,
  "nbformat_minor": 0
}
