{
  "cells": [
    {
      "cell_type": "code",
      "execution_count": 1,
      "metadata": {},
      "outputs": [],
      "source": [
        "from evaluate_task import Task\n",
        "from evaluate_task import evaluate_multiple_choice_task \n",
        "from evaluate_task import evaluate_free_response_task\n",
        "\n",
        "GPT3_5 = \"gpt-3.5-turbo-1106\"\n",
        "GPT4 = \"gpt-4-0125-preview\"\n",
        "\n",
        "anachronism = Task('multiple_choice',\n",
        "                   'data/task_anachronisms.json',\n",
        "                   'Does the following sentence contain non-contemporaneous (anachronistic) elements?.')\n",
        "logical_sequence = Task('multiple_choice',\n",
        "                        'data/task_logical_sequence.json',\n",
        "                        \"Identify the correct chronological or sequential order of items in a list.\")\n",
        "color_HCL = Task('multiple_choice', 'data/task_color_HCL.json',\"\")\n",
        "color_RGB = Task('multiple_choice', 'data/task_color_RGB.json',\"\")\n",
        "color_HEX = Task('multiple_choice', 'data/task_color_HEX.json',\"\")\n",
        "color_HSL = Task('multiple_choice', 'data/task_color_HSL.json',\"\")\n",
        "matrixshapes = Task('free_response',\n",
        "                    'data/task_matrixshapes.json',\n",
        "                    \"Keep track of matrix shapes through various transformations.\")\n",
        "operators = Task('free_response',\n",
        "                    'data/task_operators.json',\n",
        "                    \"Given the definition of the op operator, compute the result.\")\n"
      ]
    },
    {
      "cell_type": "code",
      "execution_count": 2,
      "metadata": {},
      "outputs": [
        {
          "data": {
            "text/plain": [
              "0.5"
            ]
          },
          "execution_count": 2,
          "metadata": {},
          "output_type": "execute_result"
        }
      ],
      "source": [
        "anachronism.evaluate(GPT3_5)"
      ]
    },
    {
      "cell_type": "code",
      "execution_count": 3,
      "metadata": {},
      "outputs": [
        {
          "data": {
            "text/html": [
              "Tracking run with wandb version 0.16.2"
            ],
            "text/plain": [
              "<IPython.core.display.HTML object>"
            ]
          },
          "metadata": {},
          "output_type": "display_data"
        },
        {
          "data": {
            "text/html": [
              "Run data is saved locally in <code>c:\\Users\\simon\\VSCode-workspace\\LLMs-Still-Can-t\\wandb\\run-20240127_204730-cbvlc1gk</code>"
            ],
            "text/plain": [
              "<IPython.core.display.HTML object>"
            ]
          },
          "metadata": {},
          "output_type": "display_data"
        },
        {
          "data": {
            "text/html": [
              "Syncing run <strong><a href='https://wandb.ai/simone-bresciani/LLMs-Still-Can-t/runs/cbvlc1gk' target=\"_blank\">misunderstood-gorge-9</a></strong> to <a href='https://wandb.ai/simone-bresciani/LLMs-Still-Can-t' target=\"_blank\">Weights & Biases</a> (<a href='https://wandb.me/run' target=\"_blank\">docs</a>)<br/>"
            ],
            "text/plain": [
              "<IPython.core.display.HTML object>"
            ]
          },
          "metadata": {},
          "output_type": "display_data"
        },
        {
          "data": {
            "text/html": [
              " View project at <a href='https://wandb.ai/simone-bresciani/LLMs-Still-Can-t' target=\"_blank\">https://wandb.ai/simone-bresciani/LLMs-Still-Can-t</a>"
            ],
            "text/plain": [
              "<IPython.core.display.HTML object>"
            ]
          },
          "metadata": {},
          "output_type": "display_data"
        },
        {
          "data": {
            "text/html": [
              " View run at <a href='https://wandb.ai/simone-bresciani/LLMs-Still-Can-t/runs/cbvlc1gk' target=\"_blank\">https://wandb.ai/simone-bresciani/LLMs-Still-Can-t/runs/cbvlc1gk</a>"
            ],
            "text/plain": [
              "<IPython.core.display.HTML object>"
            ]
          },
          "metadata": {},
          "output_type": "display_data"
        },
        {
          "data": {
            "text/html": [
              "<style>\n",
              "    table.wandb td:nth-child(1) { padding: 0 10px; text-align: left ; width: auto;} td:nth-child(2) {text-align: left ; width: 100%}\n",
              "    .wandb-row { display: flex; flex-direction: row; flex-wrap: wrap; justify-content: flex-start; width: 100% }\n",
              "    .wandb-col { display: flex; flex-direction: column; flex-basis: 100%; flex: 1; padding: 10px; }\n",
              "    </style>\n",
              "<div class=\"wandb-row\"><div class=\"wandb-col\"><h3>Run history:</h3><br/><table class=\"wandb\"><tr><td>accuracy</td><td>█▁█</td></tr></table><br/></div><div class=\"wandb-col\"><h3>Run summary:</h3><br/><table class=\"wandb\"><tr><td>accuracy</td><td>0.72</td></tr></table><br/></div></div>"
            ],
            "text/plain": [
              "<IPython.core.display.HTML object>"
            ]
          },
          "metadata": {},
          "output_type": "display_data"
        },
        {
          "data": {
            "text/html": [
              " View run <strong style=\"color:#cdcd00\">misunderstood-gorge-9</strong> at: <a href='https://wandb.ai/simone-bresciani/LLMs-Still-Can-t/runs/cbvlc1gk' target=\"_blank\">https://wandb.ai/simone-bresciani/LLMs-Still-Can-t/runs/cbvlc1gk</a><br/>Synced 4 W&B file(s), 0 media file(s), 0 artifact file(s) and 0 other file(s)"
            ],
            "text/plain": [
              "<IPython.core.display.HTML object>"
            ]
          },
          "metadata": {},
          "output_type": "display_data"
        },
        {
          "data": {
            "text/html": [
              "Find logs at: <code>.\\wandb\\run-20240127_204730-cbvlc1gk\\logs</code>"
            ],
            "text/plain": [
              "<IPython.core.display.HTML object>"
            ]
          },
          "metadata": {},
          "output_type": "display_data"
        }
      ],
      "source": [
        "import wandb\n",
        "# start a new wandb run to track this script\n",
        "wandb.init(project=\"LLMs-Still-Can-t\",config={\n",
        "    \"model\": GPT4,\n",
        "    \"dataset\": anachronism,\n",
        "    \"shot\": 0})\n",
        "\n",
        "# evaluate the task\n",
        "for i in range(3):\n",
        "    acc = anachronism.evaluate(GPT3_5)\n",
        "    wandb.log({\"accuracy\": acc}) \n",
        "\n",
        "wandb.finish()"
      ]
    }
  ],
  "metadata": {
    "colab": {
      "provenance": []
    },
    "kernelspec": {
      "display_name": "Python 3",
      "name": "python3"
    },
    "language_info": {
      "codemirror_mode": {
        "name": "ipython",
        "version": 3
      },
      "file_extension": ".py",
      "mimetype": "text/x-python",
      "name": "python",
      "nbconvert_exporter": "python",
      "pygments_lexer": "ipython3",
      "version": "3.12.1"
    }
  },
  "nbformat": 4,
  "nbformat_minor": 0
}
