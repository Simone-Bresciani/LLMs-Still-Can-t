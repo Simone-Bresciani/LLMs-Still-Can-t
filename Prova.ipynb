{
  "cells": [
    {
      "cell_type": "code",
      "execution_count": 1,
      "metadata": {},
      "outputs": [],
      "source": [
        "from evaluate_task import evaluate_multiple_choice_task\n",
        "\n",
        "GPT3_5 = \"gpt-3.5-turbo-1106\"\n",
        "GPT4 = \"gpt-4-0125-preview\"\n",
        "\n",
        "# Task 1\n",
        "task_anachronisms = 'data/task_anachronisms.json'\n",
        "system_message_anachronism = \"Identify whether a given statement contains an anachronism. In the first line answer 'Yes' or 'No' and in the second line explain your answer in a few words.\""
      ]
    },
    {
      "cell_type": "code",
      "execution_count": null,
      "metadata": {},
      "outputs": [],
      "source": [
        "evaluate_multiple_choice_task(task_anachronisms, system_message_anachronism, GPT3_5)"
      ]
    },
    {
      "cell_type": "code",
      "execution_count": 7,
      "metadata": {},
      "outputs": [
        {
          "name": "stdout",
          "output_type": "stream",
          "text": [
            "Yes\n",
            "The use of a radio during the Allied bombardment of Iwo Jima is an anachronism, as radios were not commonly used in combat during World War II.\n"
          ]
        }
      ],
      "source": [
        "from get_completion import get_completion_zero_shot\n",
        "print(get_completion_zero_shot(system_message_anachronism, \"During the Allied bombardment of the beaches of Iwo Jima, Ralph spoke loudly into his radio.\", GPT3_5))"
      ]
    }
  ],
  "metadata": {
    "colab": {
      "provenance": []
    },
    "kernelspec": {
      "display_name": "Python 3",
      "name": "python3"
    },
    "language_info": {
      "codemirror_mode": {
        "name": "ipython",
        "version": 3
      },
      "file_extension": ".py",
      "mimetype": "text/x-python",
      "name": "python",
      "nbconvert_exporter": "python",
      "pygments_lexer": "ipython3",
      "version": "3.12.1"
    }
  },
  "nbformat": 4,
  "nbformat_minor": 0
}
