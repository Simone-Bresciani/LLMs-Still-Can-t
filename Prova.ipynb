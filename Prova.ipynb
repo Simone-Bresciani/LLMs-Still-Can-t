{
  "cells": [
    {
      "cell_type": "code",
      "execution_count": 1,
      "metadata": {},
      "outputs": [],
      "source": [
        "GPT3_5 = \"gpt-3.5-turbo-1106\"\n",
        "GPT4 = \"gpt-4-0125-preview\"\n",
        "\n",
        "MULTIPLE_CHOICE_SUFFIX = \"First answer repeating the answer you chose, after a comma explain your answer in a few words.\"\n",
        "\n",
        "#Task 1\n",
        "task_anachronisms = 'data/task_anachronisms.json'\n",
        "system_message_anachronism = f\"Identify whether a given statement contains an anachronism. {MULTIPLE_CHOICE_SUFFIX}\""
      ]
    },
    {
      "cell_type": "code",
      "execution_count": 2,
      "metadata": {},
      "outputs": [
        {
          "name": "stdout",
          "output_type": "stream",
          "text": [
            "0.5\n"
          ]
        }
      ],
      "source": [
        "from evaluate_task import evaluate_multiple_choice_task\n",
        "print(evaluate_multiple_choice_task(task_anachronisms, system_message_anachronism, GPT4))\n"
      ]
    },
    {
      "cell_type": "code",
      "execution_count": null,
      "metadata": {},
      "outputs": [],
      "source": [
        "#chiamata singola al modello per testare la completion\n",
        "from get_completion import get_completion_zero_shot\n",
        "print(get_completion_zero_shot(system_message_anachronism, \"During the Allied bombardment of the beaches of Iwo Jima, Ralph spoke loudly into his radio.\", GPT3_5))"
      ]
    }
  ],
  "metadata": {
    "colab": {
      "provenance": []
    },
    "kernelspec": {
      "display_name": "Python 3",
      "name": "python3"
    },
    "language_info": {
      "codemirror_mode": {
        "name": "ipython",
        "version": 3
      },
      "file_extension": ".py",
      "mimetype": "text/x-python",
      "name": "python",
      "nbconvert_exporter": "python",
      "pygments_lexer": "ipython3",
      "version": "3.12.1"
    }
  },
  "nbformat": 4,
  "nbformat_minor": 0
}
