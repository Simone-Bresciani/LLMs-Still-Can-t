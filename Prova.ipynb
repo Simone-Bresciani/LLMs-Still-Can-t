{
  "cells": [
    {
      "cell_type": "code",
      "execution_count": 1,
      "metadata": {},
      "outputs": [],
      "source": [
        "from evaluate_task import evaluate_multiple_choice_task\n",
        "GPT3_5 = \"gpt-3.5-turbo-1106\"\n",
        "GPT4 = \"gpt-4-0125-preview\"\n",
        "\n",
        "#Task 1 - multiple choice\n",
        "task_anachronisms = 'data/task_anachronisms.json'\n",
        "sys_anachronism = \"Does the following sentence contain non-contemporaneous (anachronistic) elements?.\"\n",
        "\n",
        "#Task 2 - multiple choice\n",
        "task_logical_sequence = 'data/task_logical_sequence.json'\n",
        "sys_logical_sequence = \"Does the following sentence contain a logical sequence of events?.\"\n",
        "\n",
        "#Task 3 - multiple choice\n",
        "task_color_HCL = 'data/task_color_HCL.json'\n",
        "task_color_RGB = 'data/task_color_RGB.json'\n",
        "task_color_HEX = 'data/task_color_HEX.json'\n",
        "task_color_HSL = 'data/task_color_HSL.json'"
      ]
    },
    {
      "cell_type": "code",
      "execution_count": 2,
      "metadata": {},
      "outputs": [
        {
          "ename": "",
          "evalue": "",
          "output_type": "error",
          "traceback": [
            "\u001b[1;31mThe Kernel crashed while executing code in the the current cell or a previous cell. Please review the code in the cell(s) to identify a possible cause of the failure. Click <a href='https://aka.ms/vscodeJupyterKernelCrash'>here</a> for more info. View Jupyter <a href='command:jupyter.viewOutput'>log</a> for further details."
          ]
        }
      ],
      "source": [
        "#print(f\"Accuracy#1: {evaluate_multiple_choice_task(task_anachronisms, sys_anachronism, GPT3_5)}\")\n",
        "#print(f\"Accuracy#2: {evaluate_multiple_choice_task(task_logical_sequence, sys_logical_sequence, GPT3_5)}\")\n",
        "print(f\"Accuracy#3.1: {evaluate_multiple_choice_task(task_color_HCL, \"\", GPT3_5)}\")\n",
        "print(f\"Accuracy#3.2: {evaluate_multiple_choice_task(task_color_RGB, \"\", GPT3_5)}\")\n",
        "print(f\"Accuracy#3.3: {evaluate_multiple_choice_task(task_color_HEX, \"\", GPT3_5)}\")\n",
        "print(f\"Accuracy#3.4: {evaluate_multiple_choice_task(task_color_HSL, \"\", GPT3_5)}\")"
      ]
    },
    {
      "cell_type": "code",
      "execution_count": null,
      "metadata": {},
      "outputs": [],
      "source": [
        "import wandb\n",
        "\n",
        "# start a new wandb run to track this script\n",
        "wandb.init(\n",
        "    project=\"LLMs-Still-Can-t\",\n",
        "    config={\n",
        "    \"model\": GPT3_5,\n",
        "    \"dataset\": task_anachronisms})\n",
        "\n",
        "acc = evaluate_multiple_choice_task(task_anachronisms, sys_anachronism, GPT3_5)\n",
        "print(f\"Accuracy#1: {acc}\")\n",
        "wandb.log({\"acc\": acc})\n",
        "    \n",
        "wandb.finish()"
      ]
    }
  ],
  "metadata": {
    "colab": {
      "provenance": []
    },
    "kernelspec": {
      "display_name": "Python 3",
      "name": "python3"
    },
    "language_info": {
      "codemirror_mode": {
        "name": "ipython",
        "version": 3
      },
      "file_extension": ".py",
      "mimetype": "text/x-python",
      "name": "python",
      "nbconvert_exporter": "python",
      "pygments_lexer": "ipython3",
      "version": "3.12.1"
    }
  },
  "nbformat": 4,
  "nbformat_minor": 0
}
